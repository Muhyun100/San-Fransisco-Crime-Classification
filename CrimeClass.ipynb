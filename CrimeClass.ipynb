{
 "cells": [
  {
   "cell_type": "code",
   "execution_count": 1,
   "metadata": {
    "collapsed": true
   },
   "outputs": [],
   "source": [
    "import pandas as pd\n",
    "import numpy as np\n",
    "from sklearn import preprocessing\n",
    "import csv"
   ]
  },
  {
   "cell_type": "code",
   "execution_count": 2,
   "metadata": {
    "collapsed": false
   },
   "outputs": [],
   "source": [
    "from sklearn.linear_model import SGDClassifier,LogisticRegression\n",
    "from sklearn.naive_bayes import GaussianNB, MultinomialNB, BernoulliNB\n",
    "from sklearn.metrics import log_loss\n",
    "from sklearn.ensemble import AdaBoostClassifier,RandomForestClassifier, GradientBoostingClassifier"
   ]
  },
  {
   "cell_type": "code",
   "execution_count": 3,
   "metadata": {
    "collapsed": false
   },
   "outputs": [],
   "source": [
    "df=pd.read_csv('train.csv',parse_dates=['Dates'])#878049"
   ]
  },
  {
   "cell_type": "code",
   "execution_count": 4,
   "metadata": {
    "collapsed": false
   },
   "outputs": [],
   "source": [
    "X_DayofWeek = pd.get_dummies(df.DayOfWeek)\n",
    "X_PdDistrict = pd.get_dummies(df.PdDistrict)\n",
    "X_Time = df.Dates.dt.hour\n",
    "X_Time = pd.get_dummies(X_Time)\n",
    "#X_X=-df.X\n",
    "#X_Y=df.Y\n",
    "#extra from here\n",
    "year = df.Dates.dt.year\n",
    "month = df.Dates.dt.month\n",
    "day = df.Dates.dt.day\n",
    "X_Day=pd.get_dummies(day)\n",
    "X_month=pd.get_dummies(month)\n",
    "X_Year=pd.get_dummies(year)\n",
    "X_StreetCorner = df['Address'].str.contains('/').map(int)\n",
    "X_Block = df['Address'].str.contains('Block').map(int)"
   ]
  },
  {
   "cell_type": "code",
   "execution_count": 5,
   "metadata": {
    "collapsed": true
   },
   "outputs": [],
   "source": [
    "labelcoder=preprocessing.LabelEncoder()"
   ]
  },
  {
   "cell_type": "code",
   "execution_count": 6,
   "metadata": {
    "collapsed": false
   },
   "outputs": [],
   "source": [
    "X_Category=labelcoder.fit_transform(df.Category)\n",
    "Y_Train=pd.DataFrame(np.array(X_Category))"
   ]
  },
  {
   "cell_type": "code",
   "execution_count": 7,
   "metadata": {
    "collapsed": false,
    "scrolled": true
   },
   "outputs": [],
   "source": [
    "X_Train=pd.concat([X_Year,X_month,X_Day,X_Time,X_DayofWeek,X_PdDistrict,X_StreetCorner,X_Block],axis=1)"
   ]
  },
  {
   "cell_type": "code",
   "execution_count": 8,
   "metadata": {
    "collapsed": false
   },
   "outputs": [],
   "source": [
    "df2=pd.read_csv('test.csv',parse_dates=['Dates'])"
   ]
  },
  {
   "cell_type": "code",
   "execution_count": 9,
   "metadata": {
    "collapsed": false
   },
   "outputs": [],
   "source": [
    "X_DayofWeek = pd.get_dummies(df2.DayOfWeek)\n",
    "X_PdDistrict = pd.get_dummies(df2.PdDistrict)\n",
    "X_Time = df2.Dates.dt.hour\n",
    "X_Time = pd.get_dummies(X_Time)\n",
    "year = df2.Dates.dt.year\n",
    "month = df2.Dates.dt.month\n",
    "day = df2.Dates.dt.day\n",
    "X_Day=pd.get_dummies(day)\n",
    "X_month=pd.get_dummies(month)\n",
    "X_Year=pd.get_dummies(year)\n",
    "X_StreetCorner = df2['Address'].str.contains('/').map(int)\n",
    "X_Block = df2['Address'].str.contains('Block').map(int)"
   ]
  },
  {
   "cell_type": "code",
   "execution_count": 10,
   "metadata": {
    "collapsed": false
   },
   "outputs": [],
   "source": [
    "X_Test=pd.concat([X_Year,X_month,X_Day,X_Time,X_DayofWeek,X_PdDistrict,X_StreetCorner,X_Block],axis=1)"
   ]
  },
  {
   "cell_type": "code",
   "execution_count": 16,
   "metadata": {
    "collapsed": false
   },
   "outputs": [],
   "source": [
    "#clf=SGDClassifier(loss='log')\n",
    "#clf = LogisticRegression(C=1e5)\n",
    "#clf = MultinomialNB()\n",
    "clf = BernoulliNB()"
   ]
  },
  {
   "cell_type": "code",
   "execution_count": 17,
   "metadata": {
    "collapsed": false
   },
   "outputs": [
    {
     "data": {
      "text/plain": [
       "BernoulliNB(alpha=1.0, binarize=0.0, class_prior=None, fit_prior=True)"
      ]
     },
     "execution_count": 17,
     "metadata": {},
     "output_type": "execute_result"
    }
   ],
   "source": [
    "clf.fit(X_Train,df.Category.values)"
   ]
  },
  {
   "cell_type": "code",
   "execution_count": 18,
   "metadata": {
    "collapsed": false
   },
   "outputs": [],
   "source": [
    "Y_Test=np.array(clf.predict_proba(np.array(X_Test)))"
   ]
  },
  {
   "cell_type": "code",
   "execution_count": 19,
   "metadata": {
    "collapsed": false
   },
   "outputs": [
    {
     "data": {
      "text/plain": [
       "19"
      ]
     },
     "execution_count": 19,
     "metadata": {},
     "output_type": "execute_result"
    }
   ],
   "source": [
    "maxes=[labelcoder.classes_[np.argmax(Y)] for Y in Y_Test]\n",
    "np.unique(maxes).size"
   ]
  },
  {
   "cell_type": "code",
   "execution_count": 15,
   "metadata": {
    "collapsed": false
   },
   "outputs": [
   ],
   "source": [
    "result=pd.DataFrame(Y_Test, columns=labelcoder.classes_)\n",
    "result.to_csv('Result.csv', index = True, index_label = 'Id')"
   ]
  },
  {
   "cell_type": "code",
   "execution_count": null,
   "metadata": {
    "collapsed": true
   },
   "outputs": [],
   "source": []
  }
 ],
 "metadata": {
  "kernelspec": {
   "display_name": "Python 2",
   "language": "python",
   "name": "python2"
  },
  "language_info": {
   "codemirror_mode": {
    "name": "ipython",
    "version": 2
   },
   "file_extension": ".py",
   "mimetype": "text/x-python",
   "name": "python",
   "nbconvert_exporter": "python",
   "pygments_lexer": "ipython2",
   "version": "2.7.11"
  }
 },
 "nbformat": 4,
 "nbformat_minor": 0
}
